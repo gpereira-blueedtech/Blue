{
  "nbformat": 4,
  "nbformat_minor": 0,
  "metadata": {
    "colab": {
      "name": "Untitled5.ipynb",
      "provenance": [],
      "authorship_tag": "ABX9TyMzDEUFvR85oLSpR1KJSI+4",
      "include_colab_link": true
    },
    "kernelspec": {
      "name": "python3",
      "display_name": "Python 3"
    },
    "language_info": {
      "name": "python"
    }
  },
  "cells": [
    {
      "cell_type": "markdown",
      "metadata": {
        "id": "view-in-github",
        "colab_type": "text"
      },
      "source": [
        "<a href=\"https://colab.research.google.com/github/gpereira-blueedtech/Blue/blob/main/exemplos_aula03_condicionais.ipynb\" target=\"_parent\"><img src=\"https://colab.research.google.com/assets/colab-badge.svg\" alt=\"Open In Colab\"/></a>"
      ]
    },
    {
      "cell_type": "code",
      "metadata": {
        "colab": {
          "base_uri": "https://localhost:8080/"
        },
        "id": "fTam8IL-aWUO",
        "outputId": "1644a6ba-1a44-4878-d6dc-6cb9c5f12b0e"
      },
      "source": [
        "num1 = int(input(\"Digite um número: \"))\n",
        "num2 = int(input(\"Digite outro número: \"))\n",
        "\n",
        "if num1 > num2:\n",
        "    print(\"O número 1 é maior\")\n",
        "    print(\"A matemática ainda está correta.\")\n",
        "    print(\"Que bom!!\")\n",
        "elif num1 < num2 :   # else if\n",
        "    print(\"O número 2 é maior!\")\n",
        "else:\n",
        "    print(\"Os dois são iguais\")\n",
        "\n",
        "print()\n",
        "print(\"Fim do programa.\")"
      ],
      "execution_count": 39,
      "outputs": [
        {
          "output_type": "stream",
          "text": [
            "Digite um número: 10\n",
            "Digite outro número: 10\n",
            "Os dois são iguais\n",
            "\n",
            "Fim do programa.\n"
          ],
          "name": "stdout"
        }
      ]
    },
    {
      "cell_type": "markdown",
      "metadata": {
        "id": "Fd27JhCIaXMi"
      },
      "source": [
        "Se fizer sol, eu vou correr. Senão, se chover, eu vou fazer Yoga. Depois vou fazer compras."
      ]
    },
    {
      "cell_type": "code",
      "metadata": {
        "colab": {
          "base_uri": "https://localhost:8080/"
        },
        "id": "iYAGVYqVmoiH",
        "outputId": "1bb94496-0278-42be-e65b-cf038941072c"
      },
      "source": [
        "resposta = input(\"Você tem mais de 18 anos? [SIM / NÃO]\")\n",
        "dinheiro = input(\"Você tem dinheiro? [SIM / NÃO]\")\n",
        "\n",
        "if resposta.upper().strip() == \"SIM\" and dinheiro.upper().strip() == \"SIM\":\n",
        "  print(\"Então me paga uma cerveja!\")\n",
        "elif resposta.upper().strip() == \"SIM\" and dinheiro.upper().strip() == \"NAO\":\n",
        "  print(\"Então vou te pagar uma cerveja!\")\n",
        "elif resposta.upper().strip() == \"NÃO\" or resposta.upper().strip() == \"NAO\":\n",
        "  print(\"Então te pago uma coca.\")\n",
        "else:\n",
        "  print(\"Aprende a digitar então!\")\n"
      ],
      "execution_count": 71,
      "outputs": [
        {
          "output_type": "stream",
          "text": [
            "Você tem mais de 18 anos? [SIM / NÃO]nao\n",
            "Então te pago uma coca.\n"
          ],
          "name": "stdout"
        }
      ]
    },
    {
      "cell_type": "code",
      "metadata": {
        "id": "QUd6jOustynN"
      },
      "source": [
        "### IFS aninhados\n",
        "\n",
        "resposta = input(\"Você tem mais de 18 anos? [SIM / NÃO]\")\n",
        "\n",
        "if resposta.upper().strip() == \"SIM\":\n",
        "  dinheiro = input(\"Você tem dinheiro? [SIM / NÃO]\")\n",
        "  if dinheiro.upper().strip() == \"SIM\":\n",
        "      print(\"Então me paga uma cerveja!\")\n",
        "  else:\n",
        "      print(\"Então vou te pagar uma cerveja!\")\n",
        "elif resposta.upper().strip() == \"NÃO\" or resposta.upper().strip() == \"NAO\":\n",
        "  print(\"Então te pago uma coca.\")\n",
        "else:\n",
        "  print(\"Aprende a digitar então!\")"
      ],
      "execution_count": null,
      "outputs": []
    }
  ]
}